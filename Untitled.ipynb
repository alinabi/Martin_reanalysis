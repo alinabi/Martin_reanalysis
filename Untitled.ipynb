{
 "cells": [
  {
   "cell_type": "code",
   "execution_count": 1,
   "metadata": {},
   "outputs": [],
   "source": [
    "import pystan as stan\n",
    "import pandas as pd\n",
    "import numpy as np\n",
    "import matplotlib.pyplot as plt\n",
    "import pickle"
   ]
  },
  {
   "cell_type": "code",
   "execution_count": 11,
   "metadata": {},
   "outputs": [],
   "source": [
    "obs_df = pd.read_csv('./data/redd_temp_data.csv')\n",
    "surv_df = pd.read_csv('./data/Data_Martin_reanalysis.csv')\n",
    "temp_df = obs_df[obs_df['temp'] > 0].groupby(['year'], as_index=False)['temp'].mean()\n",
    "surv_df.columns=[c.lower() for c in surv_df.columns]"
   ]
  },
  {
   "cell_type": "code",
   "execution_count": 47,
   "metadata": {},
   "outputs": [],
   "source": [
    "df = df[df['temp'] > 0]\n",
    "loc_idx = dict((l, n) for (n, l) in enumerate(df['loc'].unique()))\n",
    "df['loc'] = df['loc'].apply(lambda l : loc_idx[l]).astype(int)\n",
    "df['phase'] = df['day']/365.25\n",
    "df['time'] = 365*(df['year'] - 1996) + df['day']"
   ]
  },
  {
   "cell_type": "code",
   "execution_count": 23,
   "metadata": {},
   "outputs": [],
   "source": [
    "df = temp_df.merge(surv_df, on=['year'], how='inner')"
   ]
  },
  {
   "cell_type": "code",
   "execution_count": 28,
   "metadata": {},
   "outputs": [
    {
     "data": {
      "text/plain": [
       "<matplotlib.collections.PathCollection at 0x7fe21dbeed90>"
      ]
     },
     "execution_count": 28,
     "metadata": {},
     "output_type": "execute_result"
    },
    {
     "data": {
      "image/png": "[encoded data removed]",
      "text/plain": [
       "<Figure size 432x288 with 1 Axes>"
      ]
     },
     "metadata": {
      "needs_background": "light"
     },
     "output_type": "display_data"
    }
   ],
   "source": [
    "plt.scatter(df['temp'].values, df['egg_to_fry '].values)"
   ]
  },
  {
   "cell_type": "code",
   "execution_count": 25,
   "metadata": {},
   "outputs": [
    {
     "data": {
      "text/plain": [
       "Index(['year', 'temp', 'adult_females', 'fry_at_redbluff', 'lower_90_ci_fry',\n",
       "       'upper_90_ci_fry', 'fecundity', 'egg_to_fry '],\n",
       "      dtype='object')"
      ]
     },
     "execution_count": 25,
     "metadata": {},
     "output_type": "execute_result"
    }
   ],
   "source": [
    "df.columns"
   ]
  },
  {
   "cell_type": "code",
   "execution_count": 67,
   "metadata": {},
   "outputs": [
    {
     "data": {
      "text/html": [
       "<div>\n",
       "<style scoped>\n",
       "    .dataframe tbody tr th:only-of-type {\n",
       "        vertical-align: middle;\n",
       "    }\n",
       "\n",
       "    .dataframe tbody tr th {\n",
       "        vertical-align: top;\n",
       "    }\n",
       "\n",
       "    .dataframe thead th {\n",
       "        text-align: right;\n",
       "    }\n",
       "</style>\n",
       "<table border=\"1\" class=\"dataframe\">\n",
       "  <thead>\n",
       "    <tr style=\"text-align: right;\">\n",
       "      <th></th>\n",
       "      <th>year</th>\n",
       "      <th>temp</th>\n",
       "    </tr>\n",
       "  </thead>\n",
       "  <tbody>\n",
       "    <tr>\n",
       "      <th>0</th>\n",
       "      <td>1996</td>\n",
       "      <td>36</td>\n",
       "    </tr>\n",
       "    <tr>\n",
       "      <th>1</th>\n",
       "      <td>1997</td>\n",
       "      <td>24</td>\n",
       "    </tr>\n",
       "    <tr>\n",
       "      <th>2</th>\n",
       "      <td>1998</td>\n",
       "      <td>50</td>\n",
       "    </tr>\n",
       "    <tr>\n",
       "      <th>3</th>\n",
       "      <td>1999</td>\n",
       "      <td>70</td>\n",
       "    </tr>\n",
       "    <tr>\n",
       "      <th>4</th>\n",
       "      <td>2002</td>\n",
       "      <td>50</td>\n",
       "    </tr>\n",
       "    <tr>\n",
       "      <th>5</th>\n",
       "      <td>2003</td>\n",
       "      <td>48</td>\n",
       "    </tr>\n",
       "    <tr>\n",
       "      <th>6</th>\n",
       "      <td>2004</td>\n",
       "      <td>40</td>\n",
       "    </tr>\n",
       "    <tr>\n",
       "      <th>7</th>\n",
       "      <td>2005</td>\n",
       "      <td>36</td>\n",
       "    </tr>\n",
       "    <tr>\n",
       "      <th>8</th>\n",
       "      <td>2006</td>\n",
       "      <td>18</td>\n",
       "    </tr>\n",
       "    <tr>\n",
       "      <th>9</th>\n",
       "      <td>2007</td>\n",
       "      <td>45</td>\n",
       "    </tr>\n",
       "    <tr>\n",
       "      <th>10</th>\n",
       "      <td>2008</td>\n",
       "      <td>40</td>\n",
       "    </tr>\n",
       "    <tr>\n",
       "      <th>11</th>\n",
       "      <td>2009</td>\n",
       "      <td>8</td>\n",
       "    </tr>\n",
       "    <tr>\n",
       "      <th>12</th>\n",
       "      <td>2010</td>\n",
       "      <td>30</td>\n",
       "    </tr>\n",
       "    <tr>\n",
       "      <th>13</th>\n",
       "      <td>2011</td>\n",
       "      <td>12</td>\n",
       "    </tr>\n",
       "    <tr>\n",
       "      <th>14</th>\n",
       "      <td>2012</td>\n",
       "      <td>36</td>\n",
       "    </tr>\n",
       "    <tr>\n",
       "      <th>15</th>\n",
       "      <td>2013</td>\n",
       "      <td>33</td>\n",
       "    </tr>\n",
       "    <tr>\n",
       "      <th>16</th>\n",
       "      <td>2014</td>\n",
       "      <td>33</td>\n",
       "    </tr>\n",
       "    <tr>\n",
       "      <th>17</th>\n",
       "      <td>2015</td>\n",
       "      <td>30</td>\n",
       "    </tr>\n",
       "    <tr>\n",
       "      <th>18</th>\n",
       "      <td>2016</td>\n",
       "      <td>22</td>\n",
       "    </tr>\n",
       "    <tr>\n",
       "      <th>19</th>\n",
       "      <td>2017</td>\n",
       "      <td>10</td>\n",
       "    </tr>\n",
       "    <tr>\n",
       "      <th>20</th>\n",
       "      <td>2018</td>\n",
       "      <td>30</td>\n",
       "    </tr>\n",
       "    <tr>\n",
       "      <th>21</th>\n",
       "      <td>2019</td>\n",
       "      <td>32</td>\n",
       "    </tr>\n",
       "    <tr>\n",
       "      <th>22</th>\n",
       "      <td>2020</td>\n",
       "      <td>33</td>\n",
       "    </tr>\n",
       "  </tbody>\n",
       "</table>\n",
       "</div>"
      ],
      "text/plain": [
       "    year  temp\n",
       "0   1996    36\n",
       "1   1997    24\n",
       "2   1998    50\n",
       "3   1999    70\n",
       "4   2002    50\n",
       "5   2003    48\n",
       "6   2004    40\n",
       "7   2005    36\n",
       "8   2006    18\n",
       "9   2007    45\n",
       "10  2008    40\n",
       "11  2009     8\n",
       "12  2010    30\n",
       "13  2011    12\n",
       "14  2012    36\n",
       "15  2013    33\n",
       "16  2014    33\n",
       "17  2015    30\n",
       "18  2016    22\n",
       "19  2017    10\n",
       "20  2018    30\n",
       "21  2019    32\n",
       "22  2020    33"
      ]
     },
     "execution_count": 67,
     "metadata": {},
     "output_type": "execute_result"
    }
   ],
   "source": [
    "df.groupby(['year'], as_index=False)['temp'].count()"
   ]
  },
  {
   "cell_type": "code",
   "execution_count": 73,
   "metadata": {},
   "outputs": [
    {
     "data": {
      "text/html": [
       "<div>\n",
       "<style scoped>\n",
       "    .dataframe tbody tr th:only-of-type {\n",
       "        vertical-align: middle;\n",
       "    }\n",
       "\n",
       "    .dataframe tbody tr th {\n",
       "        vertical-align: top;\n",
       "    }\n",
       "\n",
       "    .dataframe thead th {\n",
       "        text-align: right;\n",
       "    }\n",
       "</style>\n",
       "<table border=\"1\" class=\"dataframe\">\n",
       "  <thead>\n",
       "    <tr style=\"text-align: right;\">\n",
       "      <th></th>\n",
       "      <th>Unnamed: 0</th>\n",
       "      <th>year</th>\n",
       "      <th>day</th>\n",
       "      <th>loc</th>\n",
       "      <th>redds</th>\n",
       "      <th>temp</th>\n",
       "    </tr>\n",
       "  </thead>\n",
       "  <tbody>\n",
       "    <tr>\n",
       "      <th>110</th>\n",
       "      <td>110</td>\n",
       "      <td>1999</td>\n",
       "      <td>125</td>\n",
       "      <td>RKM440</td>\n",
       "      <td>0</td>\n",
       "      <td>0.0</td>\n",
       "    </tr>\n",
       "    <tr>\n",
       "      <th>111</th>\n",
       "      <td>115</td>\n",
       "      <td>1999</td>\n",
       "      <td>132</td>\n",
       "      <td>RKM440</td>\n",
       "      <td>0</td>\n",
       "      <td>0.0</td>\n",
       "    </tr>\n",
       "    <tr>\n",
       "      <th>112</th>\n",
       "      <td>120</td>\n",
       "      <td>1999</td>\n",
       "      <td>138</td>\n",
       "      <td>RKM440</td>\n",
       "      <td>6</td>\n",
       "      <td>11.8</td>\n",
       "    </tr>\n",
       "    <tr>\n",
       "      <th>113</th>\n",
       "      <td>125</td>\n",
       "      <td>1999</td>\n",
       "      <td>147</td>\n",
       "      <td>RKM440</td>\n",
       "      <td>4</td>\n",
       "      <td>12.0</td>\n",
       "    </tr>\n",
       "    <tr>\n",
       "      <th>114</th>\n",
       "      <td>130</td>\n",
       "      <td>1999</td>\n",
       "      <td>159</td>\n",
       "      <td>RKM440</td>\n",
       "      <td>6</td>\n",
       "      <td>12.2</td>\n",
       "    </tr>\n",
       "    <tr>\n",
       "      <th>...</th>\n",
       "      <td>...</td>\n",
       "      <td>...</td>\n",
       "      <td>...</td>\n",
       "      <td>...</td>\n",
       "      <td>...</td>\n",
       "      <td>...</td>\n",
       "    </tr>\n",
       "    <tr>\n",
       "      <th>175</th>\n",
       "      <td>159</td>\n",
       "      <td>1999</td>\n",
       "      <td>193</td>\n",
       "      <td>RKM483</td>\n",
       "      <td>0</td>\n",
       "      <td>0.0</td>\n",
       "    </tr>\n",
       "    <tr>\n",
       "      <th>176</th>\n",
       "      <td>164</td>\n",
       "      <td>1999</td>\n",
       "      <td>201</td>\n",
       "      <td>RKM483</td>\n",
       "      <td>0</td>\n",
       "      <td>0.0</td>\n",
       "    </tr>\n",
       "    <tr>\n",
       "      <th>177</th>\n",
       "      <td>169</td>\n",
       "      <td>1999</td>\n",
       "      <td>208</td>\n",
       "      <td>RKM483</td>\n",
       "      <td>0</td>\n",
       "      <td>0.0</td>\n",
       "    </tr>\n",
       "    <tr>\n",
       "      <th>178</th>\n",
       "      <td>174</td>\n",
       "      <td>1999</td>\n",
       "      <td>214</td>\n",
       "      <td>RKM483</td>\n",
       "      <td>0</td>\n",
       "      <td>0.0</td>\n",
       "    </tr>\n",
       "    <tr>\n",
       "      <th>179</th>\n",
       "      <td>179</td>\n",
       "      <td>1999</td>\n",
       "      <td>228</td>\n",
       "      <td>RKM483</td>\n",
       "      <td>0</td>\n",
       "      <td>0.0</td>\n",
       "    </tr>\n",
       "  </tbody>\n",
       "</table>\n",
       "<p>70 rows × 6 columns</p>\n",
       "</div>"
      ],
      "text/plain": [
       "     Unnamed: 0  year  day     loc  redds  temp\n",
       "110         110  1999  125  RKM440      0   0.0\n",
       "111         115  1999  132  RKM440      0   0.0\n",
       "112         120  1999  138  RKM440      6  11.8\n",
       "113         125  1999  147  RKM440      4  12.0\n",
       "114         130  1999  159  RKM440      6  12.2\n",
       "..          ...   ...  ...     ...    ...   ...\n",
       "175         159  1999  193  RKM483      0   0.0\n",
       "176         164  1999  201  RKM483      0   0.0\n",
       "177         169  1999  208  RKM483      0   0.0\n",
       "178         174  1999  214  RKM483      0   0.0\n",
       "179         179  1999  228  RKM483      0   0.0\n",
       "\n",
       "[70 rows x 6 columns]"
      ]
     },
     "execution_count": 73,
     "metadata": {},
     "output_type": "execute_result"
    }
   ],
   "source": [
    "df[df['year'].isin((1999,))]"
   ]
  },
  {
   "cell_type": "code",
   "execution_count": 2,
   "metadata": {},
   "outputs": [],
   "source": [
    "with open('./data/result-2021-08-13-6:52.pickle', 'rb') as f:\n",
    "    (model, fit) = pickle.load(f)"
   ]
  },
  {
   "cell_type": "code",
   "execution_count": 7,
   "metadata": {},
   "outputs": [],
   "source": [
    "data = fit.extract(pars=['temp_crit', 'beta_hazard'], permuted=False)"
   ]
  },
  {
   "cell_type": "code",
   "execution_count": 10,
   "metadata": {},
   "outputs": [
    {
     "ename": "AttributeError",
     "evalue": "'collections.OrderedDict' object has no attribute 'shape'",
     "output_type": "error",
     "traceback": [
      "\u001b[0;31m---------------------------------------------------------------------------\u001b[0m",
      "\u001b[0;31mAttributeError\u001b[0m                            Traceback (most recent call last)",
      "\u001b[0;32m<ipython-input-10-047ed65ff157>\u001b[0m in \u001b[0;36m<module>\u001b[0;34m\u001b[0m\n\u001b[0;32m----> 1\u001b[0;31m \u001b[0mdata\u001b[0m\u001b[0;34m.\u001b[0m\u001b[0mshape\u001b[0m\u001b[0;34m\u001b[0m\u001b[0;34m\u001b[0m\u001b[0m\n\u001b[0m",
      "\u001b[0;31mAttributeError\u001b[0m: 'collections.OrderedDict' object has no attribute 'shape'"
     ]
    }
   ],
   "source": [
    "data.shape"
   ]
  },
  {
   "cell_type": "code",
   "execution_count": 24,
   "metadata": {},
   "outputs": [
    {
     "data": {
      "text/plain": [
       "Text(0, 0.5, '$\\\\beta_H$')"
      ]
     },
     "execution_count": 24,
     "metadata": {},
     "output_type": "execute_result"
    },
    {
     "data": {
      "image/png": "[encoded data removed]",
      "text/plain": [
       "<Figure size 432x288 with 1 Axes>"
      ]
     },
     "metadata": {
      "needs_background": "light"
     },
     "output_type": "display_data"
    }
   ],
   "source": [
    "for chain in (0, 1):\n",
    "    plt.scatter(data['temp_crit'][:, chain], data['beta_hazard'][:, chain], label=f'chain {chain}', alpha=0.5)\n",
    "    plt.legend()\n",
    "plt.xlabel('$T_c$')\n",
    "plt.ylabel('$\\\\beta_H$')"
   ]
  },
  {
   "cell_type": "code",
   "execution_count": 6,
   "metadata": {},
   "outputs": [
    {
     "name": "stdout",
     "output_type": "stream",
     "text": [
      "Help on built-in function extract:\n",
      "\n",
      "extract(...) method of stanfit4anon_model_7983ae8fdf5538da18ab882212495da9_2618007218440436224.StanFit4Model instance\n",
      "    Extract samples in different forms for different parameters.\n",
      "    \n",
      "    Parameters\n",
      "    ----------\n",
      "    pars : {str, sequence of str}\n",
      "       parameter (or quantile) name(s).\n",
      "    permuted : bool\n",
      "       If True, returned samples are permuted. All chains are\n",
      "       merged and warmup samples are discarded.\n",
      "    inc_warmup : bool\n",
      "       If True, warmup samples are kept; otherwise they are\n",
      "       discarded. If `permuted` is True, `inc_warmup` is ignored.\n",
      "    dtypes : dict\n",
      "        datatype of parameter(s).\n",
      "        If nothing is passed, np.float will be used for all parameters.\n",
      "    \n",
      "    Returns\n",
      "    -------\n",
      "    samples : dict or array\n",
      "    If `permuted` is True, return dictionary with samples for each\n",
      "    parameter (or other quantity) named in `pars`.\n",
      "    \n",
      "    If `permuted` is False and `pars` is None, an array is returned. The first dimension of\n",
      "    the array is for the iterations; the second for the number of chains;\n",
      "    the third for the parameters. Vectors and arrays are expanded to one\n",
      "    parameter (a scalar) per cell, with names indicating the third dimension.\n",
      "    Parameters are listed in the same order as `model_pars` and `flatnames`.\n",
      "    \n",
      "    If `permuted` is False and `pars` is not None, return dictionary with samples for each\n",
      "    parameter (or other quantity) named in `pars`. The first dimension of\n",
      "    the sample array is for the iterations; the second for the number of chains;\n",
      "    the rest for the parameters. Parameters are listed in the same order as `pars`.\n",
      "\n"
     ]
    }
   ],
   "source": [
    "help(fit.extract)"
   ]
  },
  {
   "cell_type": "code",
   "execution_count": null,
   "metadata": {},
   "outputs": [],
   "source": []
  }
 ],
 "metadata": {
  "kernelspec": {
   "display_name": "Python 3",
   "language": "python",
   "name": "python3"
  },
  "language_info": {
   "codemirror_mode": {
    "name": "ipython",
    "version": 3
   },
   "file_extension": ".py",
   "mimetype": "text/x-python",
   "name": "python",
   "nbconvert_exporter": "python",
   "pygments_lexer": "ipython3",
   "version": "3.8.8"
  }
 },
 "nbformat": 4,
 "nbformat_minor": 4
}
