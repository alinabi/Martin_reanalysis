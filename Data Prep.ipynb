{
 "cells": [
  {
   "cell_type": "code",
   "execution_count": 21,
   "metadata": {},
   "outputs": [],
   "source": [
    "import numpy as np\n",
    "import pandas as pd\n",
    "import matplotlib.pyplot as plt\n",
    "from pathlib import Path\n",
    "import re"
   ]
  },
  {
   "cell_type": "markdown",
   "metadata": {},
   "source": [
    "# Daily temperature data"
   ]
  },
  {
   "cell_type": "code",
   "execution_count": 87,
   "metadata": {},
   "outputs": [],
   "source": [
    "daily_temp_path = Path('/home/alex/data/daily_temp/')"
   ]
  },
  {
   "cell_type": "code",
   "execution_count": 102,
   "metadata": {},
   "outputs": [],
   "source": [
    "def load_one_file(fpath):\n",
    "    df = pd.read_csv(fpath)\n",
    "    year = re.fullmatch('(\\d+)\\.csv', fpath.name).group(1)\n",
    "    df.columns = [c.lower() for c in df.columns]\n",
    "    df['day'] = df['day'].astype('timedelta64[D]') + np.datetime64(year, 'D') - np.timedelta64(1, 'D')\n",
    "    return df\n",
    "\n",
    "def load_temp_data(fpath):\n",
    "    dfs = [load_one_file(f) for f in fpath.iterdir()]\n",
    "    df = pd.concat(dfs).groupby(['day'], as_index=False).mean()\n",
    "    df = df.melt(id_vars='day', value_vars=set(df.columns).difference({'day'}))\n",
    "    df = df.rename(columns={'variable': 'location', 'value': 'temperature'})\n",
    "    df = df.sort_values(by=['location', 'day'])\n",
    "    return df"
   ]
  },
  {
   "cell_type": "code",
   "execution_count": 103,
   "metadata": {},
   "outputs": [],
   "source": [
    "df = load_temp_data(daily_temp_path).sort_values(by=['day'])"
   ]
  },
  {
   "cell_type": "code",
   "execution_count": 104,
   "metadata": {},
   "outputs": [
    {
     "data": {
      "text/html": [
       "<div>\n",
       "<style scoped>\n",
       "    .dataframe tbody tr th:only-of-type {\n",
       "        vertical-align: middle;\n",
       "    }\n",
       "\n",
       "    .dataframe tbody tr th {\n",
       "        vertical-align: top;\n",
       "    }\n",
       "\n",
       "    .dataframe thead th {\n",
       "        text-align: right;\n",
       "    }\n",
       "</style>\n",
       "<table border=\"1\" class=\"dataframe\">\n",
       "  <thead>\n",
       "    <tr style=\"text-align: right;\">\n",
       "      <th></th>\n",
       "      <th>day</th>\n",
       "      <th>location</th>\n",
       "      <th>temperature</th>\n",
       "    </tr>\n",
       "  </thead>\n",
       "  <tbody>\n",
       "    <tr>\n",
       "      <th>37984</th>\n",
       "      <td>1996-01-01</td>\n",
       "      <td>rkm440</td>\n",
       "      <td>NaN</td>\n",
       "    </tr>\n",
       "    <tr>\n",
       "      <th>0</th>\n",
       "      <td>1996-01-01</td>\n",
       "      <td>rkm483</td>\n",
       "      <td>11.343</td>\n",
       "    </tr>\n",
       "    <tr>\n",
       "      <th>9496</th>\n",
       "      <td>1996-01-01</td>\n",
       "      <td>rkm450</td>\n",
       "      <td>NaN</td>\n",
       "    </tr>\n",
       "    <tr>\n",
       "      <th>56976</th>\n",
       "      <td>1996-01-01</td>\n",
       "      <td>rkm444</td>\n",
       "      <td>11.099</td>\n",
       "    </tr>\n",
       "    <tr>\n",
       "      <th>47480</th>\n",
       "      <td>1996-01-01</td>\n",
       "      <td>rkm479</td>\n",
       "      <td>11.318</td>\n",
       "    </tr>\n",
       "    <tr>\n",
       "      <th>...</th>\n",
       "      <td>...</td>\n",
       "      <td>...</td>\n",
       "      <td>...</td>\n",
       "    </tr>\n",
       "    <tr>\n",
       "      <th>18991</th>\n",
       "      <td>2021-12-30</td>\n",
       "      <td>rkm450</td>\n",
       "      <td>10.171</td>\n",
       "    </tr>\n",
       "    <tr>\n",
       "      <th>56975</th>\n",
       "      <td>2021-12-30</td>\n",
       "      <td>rkm479</td>\n",
       "      <td>10.798</td>\n",
       "    </tr>\n",
       "    <tr>\n",
       "      <th>66471</th>\n",
       "      <td>2021-12-30</td>\n",
       "      <td>rkm444</td>\n",
       "      <td>NaN</td>\n",
       "    </tr>\n",
       "    <tr>\n",
       "      <th>28487</th>\n",
       "      <td>2021-12-30</td>\n",
       "      <td>rkm470</td>\n",
       "      <td>10.604</td>\n",
       "    </tr>\n",
       "    <tr>\n",
       "      <th>37983</th>\n",
       "      <td>2021-12-30</td>\n",
       "      <td>rkm485</td>\n",
       "      <td>10.928</td>\n",
       "    </tr>\n",
       "  </tbody>\n",
       "</table>\n",
       "<p>66472 rows × 3 columns</p>\n",
       "</div>"
      ],
      "text/plain": [
       "             day location  temperature\n",
       "37984 1996-01-01   rkm440          NaN\n",
       "0     1996-01-01   rkm483       11.343\n",
       "9496  1996-01-01   rkm450          NaN\n",
       "56976 1996-01-01   rkm444       11.099\n",
       "47480 1996-01-01   rkm479       11.318\n",
       "...          ...      ...          ...\n",
       "18991 2021-12-30   rkm450       10.171\n",
       "56975 2021-12-30   rkm479       10.798\n",
       "66471 2021-12-30   rkm444          NaN\n",
       "28487 2021-12-30   rkm470       10.604\n",
       "37983 2021-12-30   rkm485       10.928\n",
       "\n",
       "[66472 rows x 3 columns]"
      ]
     },
     "execution_count": 104,
     "metadata": {},
     "output_type": "execute_result"
    }
   ],
   "source": [
    "df"
   ]
  },
  {
   "cell_type": "code",
   "execution_count": 105,
   "metadata": {},
   "outputs": [],
   "source": [
    "df.to_csv('/home/alex/src/martin/data/temp_data.csv', index=False)"
   ]
  },
  {
   "cell_type": "markdown",
   "metadata": {},
   "source": [
    "# Redd count data"
   ]
  },
  {
   "cell_type": "code",
   "execution_count": 155,
   "metadata": {},
   "outputs": [],
   "source": [
    "redd_count_path = Path('/home/alex/src/martin/data/redd_temp_data.csv')"
   ]
  },
  {
   "cell_type": "code",
   "execution_count": 156,
   "metadata": {},
   "outputs": [],
   "source": [
    "def load_redd_data(fpath):\n",
    "    df = pd.read_csv(fpath)\n",
    "    df['timestamp'] = df['year'].astype(str).astype('datetime64[D]') + (df['day'] - 1).astype('timedelta64[D]')\n",
    "    df = df[['timestamp', 'loc', 'redds']]\n",
    "    df = df.rename(columns={'timestamp': 'day', 'loc': 'location'})\n",
    "    df['location'] = df['location'].apply(lambda x: x.lower())\n",
    "    df = df.sort_values(by=['location', 'day'])\n",
    "    return df"
   ]
  },
  {
   "cell_type": "code",
   "execution_count": 157,
   "metadata": {},
   "outputs": [],
   "source": [
    "df = load_redd_data(redd_count_path)"
   ]
  },
  {
   "cell_type": "code",
   "execution_count": 158,
   "metadata": {},
   "outputs": [],
   "source": [
    "df.to_csv('/home/alex/src/martin/data/redd_data.csv', index=False)"
   ]
  },
  {
   "cell_type": "markdown",
   "metadata": {},
   "source": [
    "# Survival data"
   ]
  },
  {
   "cell_type": "code",
   "execution_count": 121,
   "metadata": {},
   "outputs": [],
   "source": [
    "survival_data_path = Path('/home/alex/src/martin/data/Data_Martin_reanalysis.csv')"
   ]
  },
  {
   "cell_type": "code",
   "execution_count": 150,
   "metadata": {},
   "outputs": [],
   "source": [
    "def load_survival_data(fpath):\n",
    "    df = pd.read_csv(fpath)\n",
    "    df = df.rename(columns=dict((c, c.lower().strip()) for c in df.columns))\n",
    "    df = df[['year', 'egg_to_fry']].dropna()\n",
    "    df = df.rename(columns={'egg_to_fry': 'survival'})\n",
    "    return df"
   ]
  },
  {
   "cell_type": "code",
   "execution_count": 151,
   "metadata": {},
   "outputs": [],
   "source": [
    "df = load_survival_data(survival_data_path)"
   ]
  },
  {
   "cell_type": "code",
   "execution_count": 152,
   "metadata": {},
   "outputs": [
    {
     "data": {
      "text/html": [
       "<div>\n",
       "<style scoped>\n",
       "    .dataframe tbody tr th:only-of-type {\n",
       "        vertical-align: middle;\n",
       "    }\n",
       "\n",
       "    .dataframe tbody tr th {\n",
       "        vertical-align: top;\n",
       "    }\n",
       "\n",
       "    .dataframe thead th {\n",
       "        text-align: right;\n",
       "    }\n",
       "</style>\n",
       "<table border=\"1\" class=\"dataframe\">\n",
       "  <thead>\n",
       "    <tr style=\"text-align: right;\">\n",
       "      <th></th>\n",
       "      <th>year</th>\n",
       "      <th>survival</th>\n",
       "    </tr>\n",
       "  </thead>\n",
       "  <tbody>\n",
       "    <tr>\n",
       "      <th>0</th>\n",
       "      <td>1996</td>\n",
       "      <td>0.222270</td>\n",
       "    </tr>\n",
       "    <tr>\n",
       "      <th>1</th>\n",
       "      <td>1997</td>\n",
       "      <td>0.414082</td>\n",
       "    </tr>\n",
       "    <tr>\n",
       "      <th>2</th>\n",
       "      <td>1998</td>\n",
       "      <td>0.281141</td>\n",
       "    </tr>\n",
       "    <tr>\n",
       "      <th>3</th>\n",
       "      <td>1999</td>\n",
       "      <td>0.224489</td>\n",
       "    </tr>\n",
       "    <tr>\n",
       "      <th>6</th>\n",
       "      <td>2002</td>\n",
       "      <td>0.273541</td>\n",
       "    </tr>\n",
       "    <tr>\n",
       "      <th>7</th>\n",
       "      <td>2003</td>\n",
       "      <td>0.229983</td>\n",
       "    </tr>\n",
       "    <tr>\n",
       "      <th>8</th>\n",
       "      <td>2004</td>\n",
       "      <td>0.209390</td>\n",
       "    </tr>\n",
       "    <tr>\n",
       "      <th>9</th>\n",
       "      <td>2005</td>\n",
       "      <td>0.184630</td>\n",
       "    </tr>\n",
       "    <tr>\n",
       "      <th>10</th>\n",
       "      <td>2006</td>\n",
       "      <td>0.154293</td>\n",
       "    </tr>\n",
       "    <tr>\n",
       "      <th>11</th>\n",
       "      <td>2007</td>\n",
       "      <td>0.211196</td>\n",
       "    </tr>\n",
       "    <tr>\n",
       "      <th>12</th>\n",
       "      <td>2008</td>\n",
       "      <td>0.175261</td>\n",
       "    </tr>\n",
       "    <tr>\n",
       "      <th>13</th>\n",
       "      <td>2009</td>\n",
       "      <td>0.333479</td>\n",
       "    </tr>\n",
       "    <tr>\n",
       "      <th>14</th>\n",
       "      <td>2010</td>\n",
       "      <td>0.374802</td>\n",
       "    </tr>\n",
       "    <tr>\n",
       "      <th>15</th>\n",
       "      <td>2011</td>\n",
       "      <td>0.486449</td>\n",
       "    </tr>\n",
       "    <tr>\n",
       "      <th>16</th>\n",
       "      <td>2012</td>\n",
       "      <td>0.269322</td>\n",
       "    </tr>\n",
       "    <tr>\n",
       "      <th>17</th>\n",
       "      <td>2013</td>\n",
       "      <td>0.150933</td>\n",
       "    </tr>\n",
       "    <tr>\n",
       "      <th>18</th>\n",
       "      <td>2014</td>\n",
       "      <td>0.058712</td>\n",
       "    </tr>\n",
       "    <tr>\n",
       "      <th>19</th>\n",
       "      <td>2015</td>\n",
       "      <td>0.045254</td>\n",
       "    </tr>\n",
       "    <tr>\n",
       "      <th>20</th>\n",
       "      <td>2016</td>\n",
       "      <td>0.237308</td>\n",
       "    </tr>\n",
       "    <tr>\n",
       "      <th>21</th>\n",
       "      <td>2017</td>\n",
       "      <td>0.487023</td>\n",
       "    </tr>\n",
       "    <tr>\n",
       "      <th>22</th>\n",
       "      <td>2018</td>\n",
       "      <td>0.266112</td>\n",
       "    </tr>\n",
       "    <tr>\n",
       "      <th>23</th>\n",
       "      <td>2019</td>\n",
       "      <td>0.179803</td>\n",
       "    </tr>\n",
       "    <tr>\n",
       "      <th>24</th>\n",
       "      <td>2020</td>\n",
       "      <td>0.108574</td>\n",
       "    </tr>\n",
       "  </tbody>\n",
       "</table>\n",
       "</div>"
      ],
      "text/plain": [
       "    year  survival\n",
       "0   1996  0.222270\n",
       "1   1997  0.414082\n",
       "2   1998  0.281141\n",
       "3   1999  0.224489\n",
       "6   2002  0.273541\n",
       "7   2003  0.229983\n",
       "8   2004  0.209390\n",
       "9   2005  0.184630\n",
       "10  2006  0.154293\n",
       "11  2007  0.211196\n",
       "12  2008  0.175261\n",
       "13  2009  0.333479\n",
       "14  2010  0.374802\n",
       "15  2011  0.486449\n",
       "16  2012  0.269322\n",
       "17  2013  0.150933\n",
       "18  2014  0.058712\n",
       "19  2015  0.045254\n",
       "20  2016  0.237308\n",
       "21  2017  0.487023\n",
       "22  2018  0.266112\n",
       "23  2019  0.179803\n",
       "24  2020  0.108574"
      ]
     },
     "execution_count": 152,
     "metadata": {},
     "output_type": "execute_result"
    }
   ],
   "source": [
    "df"
   ]
  },
  {
   "cell_type": "code",
   "execution_count": 153,
   "metadata": {},
   "outputs": [],
   "source": [
    "df.to_csv('/home/alex/src/martin/data/survival_data.csv', index=False)"
   ]
  },
  {
   "cell_type": "code",
   "execution_count": null,
   "metadata": {},
   "outputs": [],
   "source": []
  }
 ],
 "metadata": {
  "kernelspec": {
   "display_name": "Python 3",
   "language": "python",
   "name": "python3"
  },
  "language_info": {
   "codemirror_mode": {
    "name": "ipython",
    "version": 3
   },
   "file_extension": ".py",
   "mimetype": "text/x-python",
   "name": "python",
   "nbconvert_exporter": "python",
   "pygments_lexer": "ipython3",
   "version": "3.8.8"
  }
 },
 "nbformat": 4,
 "nbformat_minor": 4
}
